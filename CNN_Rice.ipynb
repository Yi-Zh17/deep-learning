{
 "cells": [
  {
   "cell_type": "code",
   "execution_count": 1,
   "id": "86225e5f",
   "metadata": {
    "ExecuteTime": {
     "end_time": "2024-07-14T08:48:12.416177Z",
     "start_time": "2024-07-14T08:48:12.412787Z"
    },
    "execution": {
     "iopub.execute_input": "2024-08-29T01:29:46.724146Z",
     "iopub.status.busy": "2024-08-29T01:29:46.724027Z",
     "iopub.status.idle": "2024-08-29T01:29:48.555856Z",
     "shell.execute_reply": "2024-08-29T01:29:48.555300Z",
     "shell.execute_reply.started": "2024-08-29T01:29:46.724132Z"
    }
   },
   "outputs": [],
   "source": [
    "import torch\n",
    "import torch.nn.functional as F\n",
    "from torch import nn\n",
    "from torch.utils.data import Dataset, DataLoader, random_split\n",
    "import torch.optim as optim\n",
    "from torchvision.transforms import v2\n",
    "from torchvision.io import read_image\n",
    "import os\n",
    "import glob\n",
    "import random"
   ]
  },
  {
   "cell_type": "code",
   "execution_count": 2,
   "id": "4ef64363",
   "metadata": {
    "ExecuteTime": {
     "end_time": "2024-07-14T08:25:27.422095Z",
     "start_time": "2024-07-14T08:25:27.419328Z"
    },
    "execution": {
     "iopub.execute_input": "2024-08-29T01:29:48.557053Z",
     "iopub.status.busy": "2024-08-29T01:29:48.556884Z",
     "iopub.status.idle": "2024-08-29T01:29:48.713552Z",
     "shell.execute_reply": "2024-08-29T01:29:48.712979Z",
     "shell.execute_reply.started": "2024-08-29T01:29:48.557040Z"
    }
   },
   "outputs": [],
   "source": [
    "BATCH_SIZE = 512\n",
    "EPOCHS = 20\n",
    "DEVICE = torch.device(\"cuda\" if torch.cuda.is_available() else \"cpu\")"
   ]
  },
  {
   "cell_type": "code",
   "execution_count": 3,
   "id": "9247b243",
   "metadata": {
    "ExecuteTime": {
     "end_time": "2024-07-14T08:34:35.484567Z",
     "start_time": "2024-07-14T08:34:35.386056Z"
    },
    "execution": {
     "iopub.execute_input": "2024-08-29T01:29:48.714295Z",
     "iopub.status.busy": "2024-08-29T01:29:48.714156Z",
     "iopub.status.idle": "2024-08-29T01:29:48.809752Z",
     "shell.execute_reply": "2024-08-29T01:29:48.809302Z",
     "shell.execute_reply.started": "2024-08-29T01:29:48.714280Z"
    }
   },
   "outputs": [],
   "source": [
    "image_dirs = glob.glob(\"./data/Rice/*jpg\")"
   ]
  },
  {
   "cell_type": "code",
   "execution_count": 4,
   "id": "b1ad4b42-dc53-491a-874d-72522fae76da",
   "metadata": {
    "execution": {
     "iopub.execute_input": "2024-08-29T01:29:48.810533Z",
     "iopub.status.busy": "2024-08-29T01:29:48.810291Z",
     "iopub.status.idle": "2024-08-29T01:29:48.814995Z",
     "shell.execute_reply": "2024-08-29T01:29:48.814271Z",
     "shell.execute_reply.started": "2024-08-29T01:29:48.810519Z"
    }
   },
   "outputs": [],
   "source": [
    "def str_to_int(labels):\n",
    "    # Change labels from str to int\n",
    "    for index in range(len(labels)):\n",
    "        if(labels[index] == 'Arborio'):\n",
    "            labels[index] = 0\n",
    "        elif(labels[index] == 'Basmati' or labels[index] == 'basmati'): # Some are mislabeled\n",
    "            labels[index] = 1\n",
    "        elif(labels[index] == 'Ipsala'):\n",
    "            labels[index] = 2\n",
    "        elif(labels[index] == 'Jasmine'):\n",
    "            labels[index] = 3\n",
    "        elif(labels[index] == 'Karacadag'):\n",
    "            labels[index] = 4\n",
    "        else:\n",
    "            pass\n",
    "\n",
    "    # Check that all samples are well labeled\n",
    "    for label in labels:\n",
    "        if label not in [0, 1, 2, 3, 4]:\n",
    "            print(\"Some labels are not correct.\")"
   ]
  },
  {
   "cell_type": "code",
   "execution_count": 5,
   "id": "380b8813",
   "metadata": {
    "ExecuteTime": {
     "end_time": "2024-07-14T08:51:09.919900Z",
     "start_time": "2024-07-14T08:51:09.900813Z"
    },
    "execution": {
     "iopub.execute_input": "2024-08-29T01:29:48.816291Z",
     "iopub.status.busy": "2024-08-29T01:29:48.815739Z",
     "iopub.status.idle": "2024-08-29T01:29:48.826777Z",
     "shell.execute_reply": "2024-08-29T01:29:48.826330Z",
     "shell.execute_reply.started": "2024-08-29T01:29:48.816271Z"
    }
   },
   "outputs": [],
   "source": [
    "# Split image_dirs\n",
    "generator = torch.Generator().manual_seed(42)\n",
    "train_test = random_split(image_dirs, [0.8, 0.2], generator=generator)\n",
    "train_dir, test_dir = train_test[0], train_test[1]"
   ]
  },
  {
   "cell_type": "code",
   "execution_count": 6,
   "id": "3a680bc0-8a16-46bb-9fdb-1ee8b962bcda",
   "metadata": {
    "execution": {
     "iopub.execute_input": "2024-08-29T01:29:48.827613Z",
     "iopub.status.busy": "2024-08-29T01:29:48.827443Z",
     "iopub.status.idle": "2024-08-29T01:29:48.917058Z",
     "shell.execute_reply": "2024-08-29T01:29:48.916502Z",
     "shell.execute_reply.started": "2024-08-29T01:29:48.827596Z"
    }
   },
   "outputs": [],
   "source": [
    "# Get labels\n",
    "train_labels = [os.path.split(path)[1].split(\" \")[0] for path in train_dir]\n",
    "test_labels = [os.path.split(path)[1].split(\" \")[0] for path in test_dir]\n",
    "\n",
    "# Process labels\n",
    "str_to_int(train_labels)\n",
    "str_to_int(test_labels)"
   ]
  },
  {
   "cell_type": "code",
   "execution_count": 7,
   "id": "04f870eb",
   "metadata": {
    "ExecuteTime": {
     "end_time": "2024-07-14T08:44:22.661431Z",
     "start_time": "2024-07-14T08:44:22.656851Z"
    },
    "execution": {
     "iopub.execute_input": "2024-08-29T01:29:48.918449Z",
     "iopub.status.busy": "2024-08-29T01:29:48.918296Z",
     "iopub.status.idle": "2024-08-29T01:29:48.924588Z",
     "shell.execute_reply": "2024-08-29T01:29:48.923800Z",
     "shell.execute_reply.started": "2024-08-29T01:29:48.918434Z"
    }
   },
   "outputs": [],
   "source": [
    "class RiceImageDataset(Dataset):\n",
    "    def __init__(self, img_dir, labels, transform=v2.Compose([v2.Resize((25, 25), antialias=True), v2.ToImage(), v2.ToDtype(torch.float32)]), target_transform=None):\n",
    "        self.img_labels = labels\n",
    "        self.img_dir = img_dir\n",
    "        self.transform = transform\n",
    "        self.target_transform = target_transform\n",
    "        \n",
    "    def __len__(self):\n",
    "        return len(self.img_labels)\n",
    "    \n",
    "    def __getitem__(self, idx):\n",
    "        img_path = self.img_dir[idx]\n",
    "        image = read_image(img_path)\n",
    "        label = self.img_labels[idx]\n",
    "        if self.transform:\n",
    "            image = self.transform(image)\n",
    "        if self.target_transform:\n",
    "            label = self.target_transform(label)\n",
    "        return image, label"
   ]
  },
  {
   "cell_type": "code",
   "execution_count": 8,
   "id": "baefe756",
   "metadata": {
    "execution": {
     "iopub.execute_input": "2024-08-29T01:29:48.925343Z",
     "iopub.status.busy": "2024-08-29T01:29:48.925168Z",
     "iopub.status.idle": "2024-08-29T01:29:48.927842Z",
     "shell.execute_reply": "2024-08-29T01:29:48.927405Z",
     "shell.execute_reply.started": "2024-08-29T01:29:48.925327Z"
    }
   },
   "outputs": [],
   "source": [
    "train_dataset = RiceImageDataset(train_dir, train_labels)\n",
    "test_dataset = RiceImageDataset(test_dir, test_labels)"
   ]
  },
  {
   "cell_type": "code",
   "execution_count": 9,
   "id": "0e2f9964-3b92-4146-9a78-5b1c58b09790",
   "metadata": {
    "execution": {
     "iopub.execute_input": "2024-08-29T01:29:48.928583Z",
     "iopub.status.busy": "2024-08-29T01:29:48.928443Z",
     "iopub.status.idle": "2024-08-29T01:29:48.930893Z",
     "shell.execute_reply": "2024-08-29T01:29:48.930468Z",
     "shell.execute_reply.started": "2024-08-29T01:29:48.928569Z"
    }
   },
   "outputs": [],
   "source": [
    "train_loader = DataLoader(train_dataset, batch_size=BATCH_SIZE, shuffle=True)\n",
    "test_loader = DataLoader(test_dataset, batch_size=BATCH_SIZE, shuffle=True)"
   ]
  },
  {
   "cell_type": "code",
   "execution_count": 10,
   "id": "2cc8d919-d489-42e1-8f7b-327ea560aea2",
   "metadata": {
    "execution": {
     "iopub.execute_input": "2024-08-29T01:29:48.932024Z",
     "iopub.status.busy": "2024-08-29T01:29:48.931621Z",
     "iopub.status.idle": "2024-08-29T01:29:48.974387Z",
     "shell.execute_reply": "2024-08-29T01:29:48.973908Z",
     "shell.execute_reply.started": "2024-08-29T01:29:48.932000Z"
    }
   },
   "outputs": [
    {
     "data": {
      "text/plain": [
       "(Image([[[0., 0., 0.,  ..., 0., 0., 0.],\n",
       "         [1., 1., 0.,  ..., 0., 0., 0.],\n",
       "         [2., 2., 1.,  ..., 0., 0., 0.],\n",
       "         ...,\n",
       "         [0., 0., 0.,  ..., 0., 0., 0.],\n",
       "         [0., 0., 0.,  ..., 1., 0., 0.],\n",
       "         [0., 0., 0.,  ..., 2., 0., 0.]],\n",
       " \n",
       "        [[0., 0., 0.,  ..., 0., 0., 0.],\n",
       "         [1., 1., 0.,  ..., 0., 0., 0.],\n",
       "         [2., 2., 1.,  ..., 0., 0., 0.],\n",
       "         ...,\n",
       "         [0., 0., 0.,  ..., 0., 0., 0.],\n",
       "         [0., 0., 0.,  ..., 1., 0., 0.],\n",
       "         [0., 0., 0.,  ..., 2., 0., 0.]],\n",
       " \n",
       "        [[0., 0., 0.,  ..., 0., 0., 0.],\n",
       "         [1., 1., 0.,  ..., 0., 0., 0.],\n",
       "         [2., 2., 1.,  ..., 0., 0., 0.],\n",
       "         ...,\n",
       "         [0., 0., 0.,  ..., 0., 0., 0.],\n",
       "         [0., 0., 0.,  ..., 1., 0., 0.],\n",
       "         [0., 0., 0.,  ..., 2., 0., 0.]]], ),\n",
       " 2)"
      ]
     },
     "execution_count": 10,
     "metadata": {},
     "output_type": "execute_result"
    }
   ],
   "source": [
    "train_dataset[0]"
   ]
  },
  {
   "cell_type": "code",
   "execution_count": 11,
   "id": "61a5b1d7-1e2b-409e-9ff4-2a10fddc1388",
   "metadata": {
    "execution": {
     "iopub.execute_input": "2024-08-29T01:29:48.975102Z",
     "iopub.status.busy": "2024-08-29T01:29:48.974950Z",
     "iopub.status.idle": "2024-08-29T01:29:48.978731Z",
     "shell.execute_reply": "2024-08-29T01:29:48.978369Z",
     "shell.execute_reply.started": "2024-08-29T01:29:48.975086Z"
    }
   },
   "outputs": [],
   "source": [
    "class ConvNet(nn.Module):\n",
    "    def __init__(self):\n",
    "        super().__init__()\n",
    "        self.net = nn.Sequential(\n",
    "            nn.LazyConv2d(6, kernel_size=5, padding=2),\n",
    "            nn.ReLU(),\n",
    "            nn.AvgPool2d(kernel_size=2, stride=2),\n",
    "            nn.LazyConv2d(16, kernel_size=5),\n",
    "            nn.ReLU(),\n",
    "            nn.AvgPool2d(kernel_size=2, stride=2),\n",
    "            nn.Flatten(),\n",
    "            nn.LazyLinear(120),\n",
    "            nn.ReLU(),\n",
    "            nn.LazyLinear(84),\n",
    "            nn.ReLU(),\n",
    "            nn.LazyLinear(5),\n",
    "        )\n",
    "\n",
    "    def forward(self, x):\n",
    "        x = self.net(x)\n",
    "        x = F.log_softmax(x, dim=1)\n",
    "        return x"
   ]
  },
  {
   "cell_type": "code",
   "execution_count": 12,
   "id": "ab0b7243-6628-42e7-a27c-a2f9ba454367",
   "metadata": {
    "execution": {
     "iopub.execute_input": "2024-08-29T01:29:48.979376Z",
     "iopub.status.busy": "2024-08-29T01:29:48.979220Z",
     "iopub.status.idle": "2024-08-29T01:29:49.208159Z",
     "shell.execute_reply": "2024-08-29T01:29:49.207554Z",
     "shell.execute_reply.started": "2024-08-29T01:29:48.979360Z"
    }
   },
   "outputs": [
    {
     "name": "stderr",
     "output_type": "stream",
     "text": [
      "/home/yi/.local/lib/python3.10/site-packages/torch/nn/modules/lazy.py:180: UserWarning: Lazy modules are a new feature under heavy development so changes to the API or functionality can happen at any moment.\n",
      "  warnings.warn('Lazy modules are a new feature under heavy development '\n"
     ]
    }
   ],
   "source": [
    "model = ConvNet().to(DEVICE)\n",
    "optimizer = optim.Adam(model.parameters())"
   ]
  },
  {
   "cell_type": "code",
   "execution_count": 13,
   "id": "98f638e3-01ef-4db0-912f-d611b3966f86",
   "metadata": {
    "execution": {
     "iopub.execute_input": "2024-08-29T01:29:49.208990Z",
     "iopub.status.busy": "2024-08-29T01:29:49.208827Z",
     "iopub.status.idle": "2024-08-29T01:29:49.212673Z",
     "shell.execute_reply": "2024-08-29T01:29:49.212336Z",
     "shell.execute_reply.started": "2024-08-29T01:29:49.208973Z"
    }
   },
   "outputs": [],
   "source": [
    "def train(model, device, train_loader, optimizer, epoch):\n",
    "    model.train()\n",
    "    for batch_idx, (data, target) in enumerate(train_loader):\n",
    "        data, target = data.to(device), target.to(device)\n",
    "        optimizer.zero_grad()\n",
    "        output = model(data)\n",
    "        loss = F.cross_entropy(output, target)\n",
    "        loss.backward()\n",
    "        optimizer.step()\n",
    "        if(batch_idx+1)%30 == 0: \n",
    "            print('Train Epoch: {} [{}/{} ({:.0f}%)]\\tLoss: {:.6f}'.format(\n",
    "                epoch, batch_idx * len(data), len(train_loader.dataset),\n",
    "                100. * batch_idx / len(train_loader), loss.item()))"
   ]
  },
  {
   "cell_type": "code",
   "execution_count": 14,
   "id": "d4eb088f-8335-43ec-990b-22bd34264e29",
   "metadata": {
    "execution": {
     "iopub.execute_input": "2024-08-29T01:29:49.213382Z",
     "iopub.status.busy": "2024-08-29T01:29:49.213163Z",
     "iopub.status.idle": "2024-08-29T01:29:49.217861Z",
     "shell.execute_reply": "2024-08-29T01:29:49.217348Z",
     "shell.execute_reply.started": "2024-08-29T01:29:49.213359Z"
    }
   },
   "outputs": [],
   "source": [
    "def test(model, device, test_loader):\n",
    "    model.eval()\n",
    "    test_loss = 0\n",
    "    correct = 0\n",
    "    with torch.no_grad():\n",
    "        for data, target in test_loader:\n",
    "            data, target = data.to(device), target.to(device)\n",
    "            output = model(data)\n",
    "            test_loss += F.cross_entropy(output, target, reduction='sum').item()\n",
    "            pred = output.max(1, keepdim=True)[1]\n",
    "            correct += pred.eq(target.view_as(pred)).sum().item()\n",
    "\n",
    "    test_loss /= len(test_loader.dataset)\n",
    "    print('\\nTest set: Average loss: {:.4f}, Accuracy: {}/{} ({:.0f}%)\\n'.format(\n",
    "        test_loss, correct, len(test_loader.dataset),\n",
    "        100. * correct / len(test_loader.dataset)))"
   ]
  },
  {
   "cell_type": "code",
   "execution_count": 15,
   "id": "63792ed9-c0f5-434c-be38-47e3899aabf0",
   "metadata": {
    "execution": {
     "iopub.execute_input": "2024-08-29T01:29:49.218591Z",
     "iopub.status.busy": "2024-08-29T01:29:49.218423Z",
     "iopub.status.idle": "2024-08-29T01:38:39.024610Z",
     "shell.execute_reply": "2024-08-29T01:38:39.024130Z",
     "shell.execute_reply.started": "2024-08-29T01:29:49.218577Z"
    }
   },
   "outputs": [
    {
     "name": "stdout",
     "output_type": "stream",
     "text": [
      "Train Epoch: 1 [14848/60000 (25%)]\tLoss: 0.342331\n",
      "Train Epoch: 1 [30208/60000 (50%)]\tLoss: 0.094956\n",
      "Train Epoch: 1 [45568/60000 (75%)]\tLoss: 0.110822\n",
      "\n",
      "Test set: Average loss: 0.1021, Accuracy: 14479/15000 (97%)\n",
      "\n",
      "Train Epoch: 2 [14848/60000 (25%)]\tLoss: 0.075567\n",
      "Train Epoch: 2 [30208/60000 (50%)]\tLoss: 0.088936\n",
      "Train Epoch: 2 [45568/60000 (75%)]\tLoss: 0.062961\n",
      "\n",
      "Test set: Average loss: 0.0792, Accuracy: 14564/15000 (97%)\n",
      "\n",
      "Train Epoch: 3 [14848/60000 (25%)]\tLoss: 0.052611\n",
      "Train Epoch: 3 [30208/60000 (50%)]\tLoss: 0.139975\n",
      "Train Epoch: 3 [45568/60000 (75%)]\tLoss: 0.099046\n",
      "\n",
      "Test set: Average loss: 0.0741, Accuracy: 14610/15000 (97%)\n",
      "\n",
      "Train Epoch: 4 [14848/60000 (25%)]\tLoss: 0.070311\n",
      "Train Epoch: 4 [30208/60000 (50%)]\tLoss: 0.063907\n",
      "Train Epoch: 4 [45568/60000 (75%)]\tLoss: 0.120122\n",
      "\n",
      "Test set: Average loss: 0.0545, Accuracy: 14705/15000 (98%)\n",
      "\n",
      "Train Epoch: 5 [14848/60000 (25%)]\tLoss: 0.042003\n",
      "Train Epoch: 5 [30208/60000 (50%)]\tLoss: 0.053914\n",
      "Train Epoch: 5 [45568/60000 (75%)]\tLoss: 0.026181\n",
      "\n",
      "Test set: Average loss: 0.0779, Accuracy: 14562/15000 (97%)\n",
      "\n",
      "Train Epoch: 6 [14848/60000 (25%)]\tLoss: 0.072746\n",
      "Train Epoch: 6 [30208/60000 (50%)]\tLoss: 0.038186\n",
      "Train Epoch: 6 [45568/60000 (75%)]\tLoss: 0.028361\n",
      "\n",
      "Test set: Average loss: 0.0512, Accuracy: 14726/15000 (98%)\n",
      "\n",
      "Train Epoch: 7 [14848/60000 (25%)]\tLoss: 0.028277\n",
      "Train Epoch: 7 [30208/60000 (50%)]\tLoss: 0.024066\n",
      "Train Epoch: 7 [45568/60000 (75%)]\tLoss: 0.040836\n",
      "\n",
      "Test set: Average loss: 0.6464, Accuracy: 12347/15000 (82%)\n",
      "\n",
      "Train Epoch: 8 [14848/60000 (25%)]\tLoss: 0.071192\n",
      "Train Epoch: 8 [30208/60000 (50%)]\tLoss: 0.051374\n",
      "Train Epoch: 8 [45568/60000 (75%)]\tLoss: 0.076131\n",
      "\n",
      "Test set: Average loss: 0.0354, Accuracy: 14819/15000 (99%)\n",
      "\n",
      "Train Epoch: 9 [14848/60000 (25%)]\tLoss: 0.020550\n",
      "Train Epoch: 9 [30208/60000 (50%)]\tLoss: 0.065594\n",
      "Train Epoch: 9 [45568/60000 (75%)]\tLoss: 0.027768\n",
      "\n",
      "Test set: Average loss: 0.0317, Accuracy: 14831/15000 (99%)\n",
      "\n",
      "Train Epoch: 10 [14848/60000 (25%)]\tLoss: 0.037849\n",
      "Train Epoch: 10 [30208/60000 (50%)]\tLoss: 0.047871\n",
      "Train Epoch: 10 [45568/60000 (75%)]\tLoss: 0.048696\n",
      "\n",
      "Test set: Average loss: 0.0310, Accuracy: 14854/15000 (99%)\n",
      "\n",
      "Train Epoch: 11 [14848/60000 (25%)]\tLoss: 0.043475\n",
      "Train Epoch: 11 [30208/60000 (50%)]\tLoss: 0.019812\n",
      "Train Epoch: 11 [45568/60000 (75%)]\tLoss: 0.015909\n",
      "\n",
      "Test set: Average loss: 0.0304, Accuracy: 14858/15000 (99%)\n",
      "\n",
      "Train Epoch: 12 [14848/60000 (25%)]\tLoss: 0.025252\n",
      "Train Epoch: 12 [30208/60000 (50%)]\tLoss: 0.025409\n",
      "Train Epoch: 12 [45568/60000 (75%)]\tLoss: 0.013280\n",
      "\n",
      "Test set: Average loss: 0.0298, Accuracy: 14859/15000 (99%)\n",
      "\n",
      "Train Epoch: 13 [14848/60000 (25%)]\tLoss: 0.025459\n",
      "Train Epoch: 13 [30208/60000 (50%)]\tLoss: 0.014205\n",
      "Train Epoch: 13 [45568/60000 (75%)]\tLoss: 0.016725\n",
      "\n",
      "Test set: Average loss: 0.0337, Accuracy: 14825/15000 (99%)\n",
      "\n",
      "Train Epoch: 14 [14848/60000 (25%)]\tLoss: 0.025122\n",
      "Train Epoch: 14 [30208/60000 (50%)]\tLoss: 0.042742\n",
      "Train Epoch: 14 [45568/60000 (75%)]\tLoss: 0.021242\n",
      "\n",
      "Test set: Average loss: 0.0275, Accuracy: 14870/15000 (99%)\n",
      "\n",
      "Train Epoch: 15 [14848/60000 (25%)]\tLoss: 0.017899\n",
      "Train Epoch: 15 [30208/60000 (50%)]\tLoss: 0.028441\n",
      "Train Epoch: 15 [45568/60000 (75%)]\tLoss: 0.018748\n",
      "\n",
      "Test set: Average loss: 0.0236, Accuracy: 14896/15000 (99%)\n",
      "\n",
      "Train Epoch: 16 [14848/60000 (25%)]\tLoss: 0.043323\n",
      "Train Epoch: 16 [30208/60000 (50%)]\tLoss: 0.024252\n",
      "Train Epoch: 16 [45568/60000 (75%)]\tLoss: 0.012674\n",
      "\n",
      "Test set: Average loss: 0.0284, Accuracy: 14857/15000 (99%)\n",
      "\n",
      "Train Epoch: 17 [14848/60000 (25%)]\tLoss: 0.016496\n",
      "Train Epoch: 17 [30208/60000 (50%)]\tLoss: 0.014319\n",
      "Train Epoch: 17 [45568/60000 (75%)]\tLoss: 0.050192\n",
      "\n",
      "Test set: Average loss: 0.0334, Accuracy: 14837/15000 (99%)\n",
      "\n",
      "Train Epoch: 18 [14848/60000 (25%)]\tLoss: 0.021607\n",
      "Train Epoch: 18 [30208/60000 (50%)]\tLoss: 0.026828\n",
      "Train Epoch: 18 [45568/60000 (75%)]\tLoss: 0.017741\n",
      "\n",
      "Test set: Average loss: 0.0277, Accuracy: 14861/15000 (99%)\n",
      "\n",
      "Train Epoch: 19 [14848/60000 (25%)]\tLoss: 0.025569\n",
      "Train Epoch: 19 [30208/60000 (50%)]\tLoss: 0.026299\n",
      "Train Epoch: 19 [45568/60000 (75%)]\tLoss: 0.025667\n",
      "\n",
      "Test set: Average loss: 0.0293, Accuracy: 14854/15000 (99%)\n",
      "\n",
      "Train Epoch: 20 [14848/60000 (25%)]\tLoss: 0.017758\n",
      "Train Epoch: 20 [30208/60000 (50%)]\tLoss: 0.040324\n",
      "Train Epoch: 20 [45568/60000 (75%)]\tLoss: 0.026909\n",
      "\n",
      "Test set: Average loss: 0.0320, Accuracy: 14836/15000 (99%)\n",
      "\n"
     ]
    }
   ],
   "source": [
    "for epoch in range(1, EPOCHS + 1):\n",
    "    train(model, DEVICE, train_loader, optimizer, epoch)\n",
    "    test(model, DEVICE, test_loader)"
   ]
  },
  {
   "cell_type": "code",
   "execution_count": null,
   "id": "8828af3c-d92a-4886-9e62-9b179f251439",
   "metadata": {},
   "outputs": [],
   "source": []
  }
 ],
 "metadata": {
  "kernelspec": {
   "display_name": "Python 3 (ipykernel)",
   "language": "python",
   "name": "python3"
  },
  "language_info": {
   "codemirror_mode": {
    "name": "ipython",
    "version": 3
   },
   "file_extension": ".py",
   "mimetype": "text/x-python",
   "name": "python",
   "nbconvert_exporter": "python",
   "pygments_lexer": "ipython3",
   "version": "3.10.14"
  }
 },
 "nbformat": 4,
 "nbformat_minor": 5
}
