{
 "cells": [
  {
   "cell_type": "code",
   "execution_count": 1,
   "id": "93280ab4",
   "metadata": {
    "ExecuteTime": {
     "end_time": "2024-07-11T07:27:19.959197Z",
     "start_time": "2024-07-11T07:27:19.355711Z"
    }
   },
   "outputs": [
    {
     "data": {
      "text/plain": [
       "'1.12.0+cu102'"
      ]
     },
     "execution_count": 1,
     "metadata": {},
     "output_type": "execute_result"
    }
   ],
   "source": [
    "import torch\n",
    "import torch.nn as nn\n",
    "import torch.nn.functional as F\n",
    "import torch.optim as optim\n",
    "from torchvision import datasets, transforms\n",
    "torch.__version__"
   ]
  },
  {
   "cell_type": "code",
   "execution_count": 2,
   "id": "46c275aa",
   "metadata": {
    "ExecuteTime": {
     "end_time": "2024-07-11T07:27:19.963589Z",
     "start_time": "2024-07-11T07:27:19.961086Z"
    }
   },
   "outputs": [],
   "source": [
    "BATCH_SIZE=512 #大概需要2G的显存\n",
    "EPOCHS=20 # 总共训练批次\n",
    "DEVICE = torch.device(\"cuda\" if torch.cuda.is_available() else \"cpu\") # 让torch判断是否使用GPU，建议使用GPU环境，因为会快很多"
   ]
  },
  {
   "cell_type": "code",
   "execution_count": 3,
   "id": "4fdf2116",
   "metadata": {
    "ExecuteTime": {
     "end_time": "2024-07-11T07:27:20.031667Z",
     "start_time": "2024-07-11T07:27:19.965435Z"
    }
   },
   "outputs": [],
   "source": [
    "train_loader = torch.utils.data.DataLoader(\n",
    "        datasets.MNIST('data', train=True, download=False, \n",
    "                       transform=transforms.Compose([\n",
    "                           transforms.ToTensor(),\n",
    "                           transforms.Normalize((0.1307,), (0.3081,))\n",
    "                       ])),\n",
    "        batch_size=BATCH_SIZE, shuffle=True)"
   ]
  },
  {
   "cell_type": "code",
   "execution_count": 4,
   "id": "aa8daaee",
   "metadata": {
    "ExecuteTime": {
     "end_time": "2024-07-11T07:27:20.041789Z",
     "start_time": "2024-07-11T07:27:20.033301Z"
    }
   },
   "outputs": [],
   "source": [
    "test_loader = torch.utils.data.DataLoader(\n",
    "        datasets.MNIST('data', train=False, transform=transforms.Compose([\n",
    "                           transforms.ToTensor(),\n",
    "                           transforms.Normalize((0.1307,), (0.3081,))\n",
    "                       ])),\n",
    "        batch_size=BATCH_SIZE, shuffle=True)"
   ]
  },
  {
   "cell_type": "code",
   "execution_count": 5,
   "id": "62dc3709",
   "metadata": {
    "ExecuteTime": {
     "end_time": "2024-07-11T07:27:20.047498Z",
     "start_time": "2024-07-11T07:27:20.043167Z"
    }
   },
   "outputs": [],
   "source": [
    "class ConvNet(nn.Module):\n",
    "    def __init__(self):\n",
    "        super().__init__()\n",
    "        # 1,28x28\n",
    "        self.conv1=nn.Conv2d(1,10,5) # 10, 24x24\n",
    "        self.conv2=nn.Conv2d(10,20,3) # 128, 10x10\n",
    "        self.fc1 = nn.Linear(20*10*10,500)\n",
    "        self.fc2 = nn.Linear(500,10)\n",
    "    def forward(self,x):\n",
    "        in_size = x.size(0)\n",
    "        out = self.conv1(x) #24\n",
    "        out = F.relu(out)\n",
    "        out = F.max_pool2d(out, 2, 2)  #12\n",
    "        out = self.conv2(out) #10\n",
    "        out = F.relu(out)\n",
    "        out = out.view(in_size,-1)\n",
    "        out = self.fc1(out)\n",
    "        out = F.relu(out)\n",
    "        out = self.fc2(out)\n",
    "        out = F.log_softmax(out,dim=1)\n",
    "        return out"
   ]
  },
  {
   "cell_type": "code",
   "execution_count": 6,
   "id": "6c5c7b4e",
   "metadata": {
    "ExecuteTime": {
     "end_time": "2024-07-11T07:27:22.073255Z",
     "start_time": "2024-07-11T07:27:20.049106Z"
    }
   },
   "outputs": [],
   "source": [
    "model = ConvNet().to(DEVICE)\n",
    "optimizer = optim.Adam(model.parameters())"
   ]
  },
  {
   "cell_type": "code",
   "execution_count": 7,
   "id": "749e312c",
   "metadata": {
    "ExecuteTime": {
     "end_time": "2024-07-11T07:27:22.077863Z",
     "start_time": "2024-07-11T07:27:22.074315Z"
    }
   },
   "outputs": [],
   "source": [
    "def train(model, device, train_loader, optimizer, epoch):\n",
    "    model.train()\n",
    "    for batch_idx, (data, target) in enumerate(train_loader):\n",
    "        data, target = data.to(device), target.to(device)\n",
    "        optimizer.zero_grad()\n",
    "        output = model(data)\n",
    "        loss = F.nll_loss(output, target)\n",
    "        loss.backward()\n",
    "        optimizer.step()\n",
    "        if(batch_idx+1)%30 == 0: \n",
    "            print('Train Epoch: {} [{}/{} ({:.0f}%)]\\tLoss: {:.6f}'.format(\n",
    "                epoch, batch_idx * len(data), len(train_loader.dataset),\n",
    "                100. * batch_idx / len(train_loader), loss.item()))"
   ]
  },
  {
   "cell_type": "code",
   "execution_count": 8,
   "id": "adca995e",
   "metadata": {
    "ExecuteTime": {
     "end_time": "2024-07-11T07:27:22.085102Z",
     "start_time": "2024-07-11T07:27:22.079675Z"
    }
   },
   "outputs": [],
   "source": [
    "def test(model, device, test_loader):\n",
    "    model.eval()\n",
    "    test_loss = 0\n",
    "    correct = 0\n",
    "    with torch.no_grad():\n",
    "        for data, target in test_loader:\n",
    "            data, target = data.to(device), target.to(device)\n",
    "            output = model(data)\n",
    "            test_loss += F.nll_loss(output, target, reduction='sum').item() # 将一批的损失相加\n",
    "            pred = output.max(1, keepdim=True)[1] # 找到概率最大的下标\n",
    "            correct += pred.eq(target.view_as(pred)).sum().item()\n",
    "\n",
    "    test_loss /= len(test_loader.dataset)\n",
    "    print('\\nTest set: Average loss: {:.4f}, Accuracy: {}/{} ({:.0f}%)\\n'.format(\n",
    "        test_loss, correct, len(test_loader.dataset),\n",
    "        100. * correct / len(test_loader.dataset)))"
   ]
  },
  {
   "cell_type": "code",
   "execution_count": 9,
   "id": "1959d28d",
   "metadata": {
    "ExecuteTime": {
     "end_time": "2024-07-11T07:30:02.780895Z",
     "start_time": "2024-07-11T07:27:22.086417Z"
    }
   },
   "outputs": [
    {
     "name": "stdout",
     "output_type": "stream",
     "text": [
      "Train Epoch: 1 [14848/60000 (25%)]\tLoss: 0.313490\n",
      "Train Epoch: 1 [30208/60000 (50%)]\tLoss: 0.210561\n",
      "Train Epoch: 1 [45568/60000 (75%)]\tLoss: 0.118126\n",
      "\n",
      "Test set: Average loss: 0.0899, Accuracy: 9717/10000 (97%)\n",
      "\n",
      "Train Epoch: 2 [14848/60000 (25%)]\tLoss: 0.088246\n",
      "Train Epoch: 2 [30208/60000 (50%)]\tLoss: 0.057920\n",
      "Train Epoch: 2 [45568/60000 (75%)]\tLoss: 0.102538\n",
      "\n",
      "Test set: Average loss: 0.0559, Accuracy: 9821/10000 (98%)\n",
      "\n",
      "Train Epoch: 3 [14848/60000 (25%)]\tLoss: 0.059494\n",
      "Train Epoch: 3 [30208/60000 (50%)]\tLoss: 0.060959\n",
      "Train Epoch: 3 [45568/60000 (75%)]\tLoss: 0.051602\n",
      "\n",
      "Test set: Average loss: 0.0439, Accuracy: 9857/10000 (99%)\n",
      "\n",
      "Train Epoch: 4 [14848/60000 (25%)]\tLoss: 0.061225\n",
      "Train Epoch: 4 [30208/60000 (50%)]\tLoss: 0.036014\n",
      "Train Epoch: 4 [45568/60000 (75%)]\tLoss: 0.041808\n",
      "\n",
      "Test set: Average loss: 0.0416, Accuracy: 9864/10000 (99%)\n",
      "\n",
      "Train Epoch: 5 [14848/60000 (25%)]\tLoss: 0.027790\n",
      "Train Epoch: 5 [30208/60000 (50%)]\tLoss: 0.045383\n",
      "Train Epoch: 5 [45568/60000 (75%)]\tLoss: 0.035089\n",
      "\n",
      "Test set: Average loss: 0.0342, Accuracy: 9891/10000 (99%)\n",
      "\n",
      "Train Epoch: 6 [14848/60000 (25%)]\tLoss: 0.020376\n",
      "Train Epoch: 6 [30208/60000 (50%)]\tLoss: 0.032457\n",
      "Train Epoch: 6 [45568/60000 (75%)]\tLoss: 0.020444\n",
      "\n",
      "Test set: Average loss: 0.0305, Accuracy: 9895/10000 (99%)\n",
      "\n",
      "Train Epoch: 7 [14848/60000 (25%)]\tLoss: 0.027325\n",
      "Train Epoch: 7 [30208/60000 (50%)]\tLoss: 0.017973\n",
      "Train Epoch: 7 [45568/60000 (75%)]\tLoss: 0.018374\n",
      "\n",
      "Test set: Average loss: 0.0334, Accuracy: 9884/10000 (99%)\n",
      "\n",
      "Train Epoch: 8 [14848/60000 (25%)]\tLoss: 0.017667\n",
      "Train Epoch: 8 [30208/60000 (50%)]\tLoss: 0.025458\n",
      "Train Epoch: 8 [45568/60000 (75%)]\tLoss: 0.006339\n",
      "\n",
      "Test set: Average loss: 0.0382, Accuracy: 9880/10000 (99%)\n",
      "\n",
      "Train Epoch: 9 [14848/60000 (25%)]\tLoss: 0.011354\n",
      "Train Epoch: 9 [30208/60000 (50%)]\tLoss: 0.021260\n",
      "Train Epoch: 9 [45568/60000 (75%)]\tLoss: 0.024150\n",
      "\n",
      "Test set: Average loss: 0.0337, Accuracy: 9898/10000 (99%)\n",
      "\n",
      "Train Epoch: 10 [14848/60000 (25%)]\tLoss: 0.005737\n",
      "Train Epoch: 10 [30208/60000 (50%)]\tLoss: 0.020446\n",
      "Train Epoch: 10 [45568/60000 (75%)]\tLoss: 0.013060\n",
      "\n",
      "Test set: Average loss: 0.0329, Accuracy: 9892/10000 (99%)\n",
      "\n",
      "Train Epoch: 11 [14848/60000 (25%)]\tLoss: 0.011606\n",
      "Train Epoch: 11 [30208/60000 (50%)]\tLoss: 0.010986\n",
      "Train Epoch: 11 [45568/60000 (75%)]\tLoss: 0.006347\n",
      "\n",
      "Test set: Average loss: 0.0378, Accuracy: 9880/10000 (99%)\n",
      "\n",
      "Train Epoch: 12 [14848/60000 (25%)]\tLoss: 0.033823\n",
      "Train Epoch: 12 [30208/60000 (50%)]\tLoss: 0.008019\n",
      "Train Epoch: 12 [45568/60000 (75%)]\tLoss: 0.003870\n",
      "\n",
      "Test set: Average loss: 0.0288, Accuracy: 9912/10000 (99%)\n",
      "\n",
      "Train Epoch: 13 [14848/60000 (25%)]\tLoss: 0.002562\n",
      "Train Epoch: 13 [30208/60000 (50%)]\tLoss: 0.008155\n",
      "Train Epoch: 13 [45568/60000 (75%)]\tLoss: 0.003836\n",
      "\n",
      "Test set: Average loss: 0.0304, Accuracy: 9911/10000 (99%)\n",
      "\n",
      "Train Epoch: 14 [14848/60000 (25%)]\tLoss: 0.021863\n",
      "Train Epoch: 14 [30208/60000 (50%)]\tLoss: 0.005846\n",
      "Train Epoch: 14 [45568/60000 (75%)]\tLoss: 0.000595\n",
      "\n",
      "Test set: Average loss: 0.0288, Accuracy: 9918/10000 (99%)\n",
      "\n",
      "Train Epoch: 15 [14848/60000 (25%)]\tLoss: 0.002695\n",
      "Train Epoch: 15 [30208/60000 (50%)]\tLoss: 0.006323\n",
      "Train Epoch: 15 [45568/60000 (75%)]\tLoss: 0.001393\n",
      "\n",
      "Test set: Average loss: 0.0387, Accuracy: 9898/10000 (99%)\n",
      "\n",
      "Train Epoch: 16 [14848/60000 (25%)]\tLoss: 0.001052\n",
      "Train Epoch: 16 [30208/60000 (50%)]\tLoss: 0.002468\n",
      "Train Epoch: 16 [45568/60000 (75%)]\tLoss: 0.001781\n",
      "\n",
      "Test set: Average loss: 0.0346, Accuracy: 9902/10000 (99%)\n",
      "\n",
      "Train Epoch: 17 [14848/60000 (25%)]\tLoss: 0.011630\n",
      "Train Epoch: 17 [30208/60000 (50%)]\tLoss: 0.003975\n",
      "Train Epoch: 17 [45568/60000 (75%)]\tLoss: 0.004083\n",
      "\n",
      "Test set: Average loss: 0.0390, Accuracy: 9905/10000 (99%)\n",
      "\n",
      "Train Epoch: 18 [14848/60000 (25%)]\tLoss: 0.002165\n",
      "Train Epoch: 18 [30208/60000 (50%)]\tLoss: 0.000251\n",
      "Train Epoch: 18 [45568/60000 (75%)]\tLoss: 0.002493\n",
      "\n",
      "Test set: Average loss: 0.0399, Accuracy: 9897/10000 (99%)\n",
      "\n",
      "Train Epoch: 19 [14848/60000 (25%)]\tLoss: 0.001885\n",
      "Train Epoch: 19 [30208/60000 (50%)]\tLoss: 0.003614\n",
      "Train Epoch: 19 [45568/60000 (75%)]\tLoss: 0.004677\n",
      "\n",
      "Test set: Average loss: 0.0368, Accuracy: 9908/10000 (99%)\n",
      "\n",
      "Train Epoch: 20 [14848/60000 (25%)]\tLoss: 0.000706\n",
      "Train Epoch: 20 [30208/60000 (50%)]\tLoss: 0.002727\n",
      "Train Epoch: 20 [45568/60000 (75%)]\tLoss: 0.003106\n",
      "\n",
      "Test set: Average loss: 0.0405, Accuracy: 9901/10000 (99%)\n",
      "\n"
     ]
    }
   ],
   "source": [
    "for epoch in range(1, EPOCHS + 1):\n",
    "    train(model, DEVICE, train_loader, optimizer, epoch)\n",
    "    test(model, DEVICE, test_loader)"
   ]
  }
 ],
 "metadata": {
  "kernelspec": {
   "display_name": "Python 3 (ipykernel)",
   "language": "python",
   "name": "python3"
  },
  "language_info": {
   "codemirror_mode": {
    "name": "ipython",
    "version": 3
   },
   "file_extension": ".py",
   "mimetype": "text/x-python",
   "name": "python",
   "nbconvert_exporter": "python",
   "pygments_lexer": "ipython3",
   "version": "3.10.14"
  }
 },
 "nbformat": 4,
 "nbformat_minor": 5
}
