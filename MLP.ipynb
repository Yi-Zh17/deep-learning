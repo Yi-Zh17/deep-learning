{
 "cells": [
  {
   "cell_type": "code",
   "execution_count": 1,
   "id": "7a8876df",
   "metadata": {
    "ExecuteTime": {
     "end_time": "2024-07-14T08:01:57.671302Z",
     "start_time": "2024-07-14T08:01:57.018187Z"
    }
   },
   "outputs": [],
   "source": [
    "import torch\n",
    "from torch import nn\n",
    "from torchvision import datasets, transforms\n",
    "import torch.nn.functional as F"
   ]
  },
  {
   "cell_type": "code",
   "execution_count": 2,
   "id": "8042dadd",
   "metadata": {
    "ExecuteTime": {
     "end_time": "2024-07-14T08:01:57.675643Z",
     "start_time": "2024-07-14T08:01:57.672995Z"
    }
   },
   "outputs": [],
   "source": [
    "BATCH_SIZE=512\n",
    "EPOCHS=20\n",
    "# Let Torch decide which device to use\n",
    "DEVICE = torch.device(\"cuda\" if torch.cuda.is_available() else \"cpu\")"
   ]
  },
  {
   "cell_type": "code",
   "execution_count": 3,
   "id": "51643b28",
   "metadata": {
    "ExecuteTime": {
     "end_time": "2024-07-14T08:01:57.716510Z",
     "start_time": "2024-07-14T08:01:57.676873Z"
    }
   },
   "outputs": [],
   "source": [
    "train_loader = torch.utils.data.DataLoader(\n",
    "        datasets.MNIST('data', train=True, download=False, \n",
    "                       transform=transforms.Compose([\n",
    "                           transforms.ToTensor(),\n",
    "                           transforms.Normalize((0.1307,), (0.3081,))\n",
    "                       ])),\n",
    "        batch_size=BATCH_SIZE, shuffle=True)"
   ]
  },
  {
   "cell_type": "code",
   "execution_count": 4,
   "id": "21693c8e",
   "metadata": {
    "ExecuteTime": {
     "end_time": "2024-07-14T08:01:57.726769Z",
     "start_time": "2024-07-14T08:01:57.718731Z"
    }
   },
   "outputs": [],
   "source": [
    "test_loader = torch.utils.data.DataLoader(\n",
    "        datasets.MNIST('data', train=False, transform=transforms.Compose([\n",
    "                           transforms.ToTensor(),\n",
    "                           transforms.Normalize((0.1307,), (0.3081,))\n",
    "                       ])),\n",
    "        batch_size=BATCH_SIZE, shuffle=True)"
   ]
  },
  {
   "cell_type": "code",
   "execution_count": 5,
   "id": "165e65c3",
   "metadata": {
    "ExecuteTime": {
     "end_time": "2024-07-14T08:01:57.731348Z",
     "start_time": "2024-07-14T08:01:57.728192Z"
    }
   },
   "outputs": [],
   "source": [
    "class MLP(nn.Module):\n",
    "    # Initialize parameters\n",
    "    def __init__(self, num_outputs, num_hiddens, lr=0.01):\n",
    "        super().__init__()\n",
    "        self.net = nn.Sequential(\n",
    "            nn.Flatten(), \n",
    "            nn.LazyLinear(num_hiddens),\n",
    "            nn.ReLU(),\n",
    "            nn.LazyLinear(num_outputs)\n",
    "        )\n",
    "        \n",
    "    def forward(self, x):\n",
    "        x = self.net(x)\n",
    "        return x"
   ]
  },
  {
   "cell_type": "code",
   "execution_count": 6,
   "id": "57ae35d5",
   "metadata": {
    "ExecuteTime": {
     "end_time": "2024-07-14T08:01:57.736728Z",
     "start_time": "2024-07-14T08:01:57.732633Z"
    }
   },
   "outputs": [
    {
     "name": "stderr",
     "output_type": "stream",
     "text": [
      "/home/yi/miniconda3/envs/d2l/lib/python3.9/site-packages/torch/nn/modules/lazy.py:178: UserWarning: Lazy modules are a new feature under heavy development so changes to the API or functionality can happen at any moment.\n",
      "  warnings.warn('Lazy modules are a new feature under heavy development '\n"
     ]
    }
   ],
   "source": [
    "model = MLP(10, 10).to(DEVICE)\n",
    "optimizer = torch.optim.Adam(model.parameters())"
   ]
  },
  {
   "cell_type": "code",
   "execution_count": 7,
   "id": "a4bd9714",
   "metadata": {
    "ExecuteTime": {
     "end_time": "2024-07-14T08:01:57.741349Z",
     "start_time": "2024-07-14T08:01:57.737992Z"
    }
   },
   "outputs": [],
   "source": [
    "def train(model, device, train_loader, optimizer, epoch):\n",
    "    model.train()\n",
    "    for batch_idx, (data, target) in enumerate(train_loader):\n",
    "        data, target = data.to(device), target.to(device)\n",
    "        optimizer.zero_grad()\n",
    "        output = model(data)\n",
    "        loss = F.cross_entropy(output, target)\n",
    "        loss.backward()\n",
    "        optimizer.step()\n",
    "        if(batch_idx+1)%30 == 0: \n",
    "            print('Train Epoch: {} [{}/{} ({:.0f}%)]\\tLoss: {:.6f}'.format(\n",
    "                epoch, batch_idx * len(data), len(train_loader.dataset),\n",
    "                100. * batch_idx / len(train_loader), loss.item()))"
   ]
  },
  {
   "cell_type": "code",
   "execution_count": 8,
   "id": "fb0f772d",
   "metadata": {
    "ExecuteTime": {
     "end_time": "2024-07-14T08:01:57.745826Z",
     "start_time": "2024-07-14T08:01:57.742616Z"
    }
   },
   "outputs": [],
   "source": [
    "def test(model, device, test_loader):\n",
    "    model.eval()\n",
    "    test_loss = 0\n",
    "    correct = 0\n",
    "    with torch.no_grad():\n",
    "        for data, target in test_loader:\n",
    "            data, target = data.to(device), target.to(device)\n",
    "            output = model(data)\n",
    "            test_loss += F.cross_entropy(output, target, reduction='sum').item() # 将一批的损失相加\n",
    "            pred = output.max(1, keepdim=True)[1] # 找到概率最大的下标\n",
    "            correct += pred.eq(target.view_as(pred)).sum().item()\n",
    "\n",
    "    test_loss /= len(test_loader.dataset)\n",
    "    print('\\nTest set: Average loss: {:.4f}, Accuracy: {}/{} ({:.0f}%)\\n'.format(\n",
    "        test_loss, correct, len(test_loader.dataset),\n",
    "        100. * correct / len(test_loader.dataset)))"
   ]
  },
  {
   "cell_type": "code",
   "execution_count": 9,
   "id": "9ab436c7",
   "metadata": {
    "ExecuteTime": {
     "end_time": "2024-07-14T08:04:31.586360Z",
     "start_time": "2024-07-14T08:01:57.747006Z"
    }
   },
   "outputs": [
    {
     "name": "stdout",
     "output_type": "stream",
     "text": [
      "Train Epoch: 1 [14848/60000 (25%)]\tLoss: 1.326467\n",
      "Train Epoch: 1 [30208/60000 (50%)]\tLoss: 0.775689\n",
      "Train Epoch: 1 [45568/60000 (75%)]\tLoss: 0.557540\n",
      "\n",
      "Test set: Average loss: 0.4717, Accuracy: 8749/10000 (87%)\n",
      "\n",
      "Train Epoch: 2 [14848/60000 (25%)]\tLoss: 0.442232\n",
      "Train Epoch: 2 [30208/60000 (50%)]\tLoss: 0.361139\n",
      "Train Epoch: 2 [45568/60000 (75%)]\tLoss: 0.313894\n",
      "\n",
      "Test set: Average loss: 0.3422, Accuracy: 9026/10000 (90%)\n",
      "\n",
      "Train Epoch: 3 [14848/60000 (25%)]\tLoss: 0.384454\n",
      "Train Epoch: 3 [30208/60000 (50%)]\tLoss: 0.417952\n",
      "Train Epoch: 3 [45568/60000 (75%)]\tLoss: 0.318887\n",
      "\n",
      "Test set: Average loss: 0.3023, Accuracy: 9150/10000 (92%)\n",
      "\n",
      "Train Epoch: 4 [14848/60000 (25%)]\tLoss: 0.285957\n",
      "Train Epoch: 4 [30208/60000 (50%)]\tLoss: 0.303570\n",
      "Train Epoch: 4 [45568/60000 (75%)]\tLoss: 0.252664\n",
      "\n",
      "Test set: Average loss: 0.2801, Accuracy: 9209/10000 (92%)\n",
      "\n",
      "Train Epoch: 5 [14848/60000 (25%)]\tLoss: 0.318085\n",
      "Train Epoch: 5 [30208/60000 (50%)]\tLoss: 0.220354\n",
      "Train Epoch: 5 [45568/60000 (75%)]\tLoss: 0.331808\n",
      "\n",
      "Test set: Average loss: 0.2754, Accuracy: 9203/10000 (92%)\n",
      "\n",
      "Train Epoch: 6 [14848/60000 (25%)]\tLoss: 0.284130\n",
      "Train Epoch: 6 [30208/60000 (50%)]\tLoss: 0.211477\n",
      "Train Epoch: 6 [45568/60000 (75%)]\tLoss: 0.277726\n",
      "\n",
      "Test set: Average loss: 0.2662, Accuracy: 9227/10000 (92%)\n",
      "\n",
      "Train Epoch: 7 [14848/60000 (25%)]\tLoss: 0.321945\n",
      "Train Epoch: 7 [30208/60000 (50%)]\tLoss: 0.251879\n",
      "Train Epoch: 7 [45568/60000 (75%)]\tLoss: 0.234054\n",
      "\n",
      "Test set: Average loss: 0.2603, Accuracy: 9263/10000 (93%)\n",
      "\n",
      "Train Epoch: 8 [14848/60000 (25%)]\tLoss: 0.298967\n",
      "Train Epoch: 8 [30208/60000 (50%)]\tLoss: 0.255218\n",
      "Train Epoch: 8 [45568/60000 (75%)]\tLoss: 0.259493\n",
      "\n",
      "Test set: Average loss: 0.2539, Accuracy: 9293/10000 (93%)\n",
      "\n",
      "Train Epoch: 9 [14848/60000 (25%)]\tLoss: 0.266084\n",
      "Train Epoch: 9 [30208/60000 (50%)]\tLoss: 0.259406\n",
      "Train Epoch: 9 [45568/60000 (75%)]\tLoss: 0.228134\n",
      "\n",
      "Test set: Average loss: 0.2525, Accuracy: 9277/10000 (93%)\n",
      "\n",
      "Train Epoch: 10 [14848/60000 (25%)]\tLoss: 0.248792\n",
      "Train Epoch: 10 [30208/60000 (50%)]\tLoss: 0.236067\n",
      "Train Epoch: 10 [45568/60000 (75%)]\tLoss: 0.275902\n",
      "\n",
      "Test set: Average loss: 0.2555, Accuracy: 9253/10000 (93%)\n",
      "\n",
      "Train Epoch: 11 [14848/60000 (25%)]\tLoss: 0.263743\n",
      "Train Epoch: 11 [30208/60000 (50%)]\tLoss: 0.243351\n",
      "Train Epoch: 11 [45568/60000 (75%)]\tLoss: 0.294376\n",
      "\n",
      "Test set: Average loss: 0.2482, Accuracy: 9274/10000 (93%)\n",
      "\n",
      "Train Epoch: 12 [14848/60000 (25%)]\tLoss: 0.239110\n",
      "Train Epoch: 12 [30208/60000 (50%)]\tLoss: 0.189443\n",
      "Train Epoch: 12 [45568/60000 (75%)]\tLoss: 0.157738\n",
      "\n",
      "Test set: Average loss: 0.2438, Accuracy: 9296/10000 (93%)\n",
      "\n",
      "Train Epoch: 13 [14848/60000 (25%)]\tLoss: 0.216012\n",
      "Train Epoch: 13 [30208/60000 (50%)]\tLoss: 0.199052\n",
      "Train Epoch: 13 [45568/60000 (75%)]\tLoss: 0.287447\n",
      "\n",
      "Test set: Average loss: 0.2418, Accuracy: 9302/10000 (93%)\n",
      "\n",
      "Train Epoch: 14 [14848/60000 (25%)]\tLoss: 0.273584\n",
      "Train Epoch: 14 [30208/60000 (50%)]\tLoss: 0.221968\n",
      "Train Epoch: 14 [45568/60000 (75%)]\tLoss: 0.197962\n",
      "\n",
      "Test set: Average loss: 0.2437, Accuracy: 9299/10000 (93%)\n",
      "\n",
      "Train Epoch: 15 [14848/60000 (25%)]\tLoss: 0.286445\n",
      "Train Epoch: 15 [30208/60000 (50%)]\tLoss: 0.249765\n",
      "Train Epoch: 15 [45568/60000 (75%)]\tLoss: 0.272492\n",
      "\n",
      "Test set: Average loss: 0.2410, Accuracy: 9302/10000 (93%)\n",
      "\n",
      "Train Epoch: 16 [14848/60000 (25%)]\tLoss: 0.223667\n",
      "Train Epoch: 16 [30208/60000 (50%)]\tLoss: 0.189267\n",
      "Train Epoch: 16 [45568/60000 (75%)]\tLoss: 0.305538\n",
      "\n",
      "Test set: Average loss: 0.2376, Accuracy: 9308/10000 (93%)\n",
      "\n",
      "Train Epoch: 17 [14848/60000 (25%)]\tLoss: 0.225623\n",
      "Train Epoch: 17 [30208/60000 (50%)]\tLoss: 0.282583\n",
      "Train Epoch: 17 [45568/60000 (75%)]\tLoss: 0.216441\n",
      "\n",
      "Test set: Average loss: 0.2381, Accuracy: 9312/10000 (93%)\n",
      "\n",
      "Train Epoch: 18 [14848/60000 (25%)]\tLoss: 0.194600\n",
      "Train Epoch: 18 [30208/60000 (50%)]\tLoss: 0.171652\n",
      "Train Epoch: 18 [45568/60000 (75%)]\tLoss: 0.173427\n",
      "\n",
      "Test set: Average loss: 0.2362, Accuracy: 9322/10000 (93%)\n",
      "\n",
      "Train Epoch: 19 [14848/60000 (25%)]\tLoss: 0.219817\n",
      "Train Epoch: 19 [30208/60000 (50%)]\tLoss: 0.256472\n",
      "Train Epoch: 19 [45568/60000 (75%)]\tLoss: 0.302811\n",
      "\n",
      "Test set: Average loss: 0.2365, Accuracy: 9310/10000 (93%)\n",
      "\n",
      "Train Epoch: 20 [14848/60000 (25%)]\tLoss: 0.206035\n",
      "Train Epoch: 20 [30208/60000 (50%)]\tLoss: 0.197363\n",
      "Train Epoch: 20 [45568/60000 (75%)]\tLoss: 0.172431\n",
      "\n",
      "Test set: Average loss: 0.2334, Accuracy: 9321/10000 (93%)\n",
      "\n"
     ]
    }
   ],
   "source": [
    "for epoch in range(1, EPOCHS + 1):\n",
    "    train(model, DEVICE, train_loader, optimizer, epoch)\n",
    "    test(model, DEVICE, test_loader)"
   ]
  },
  {
   "cell_type": "code",
   "execution_count": null,
   "id": "61ea6cff",
   "metadata": {},
   "outputs": [],
   "source": []
  }
 ],
 "metadata": {
  "kernelspec": {
   "display_name": "Python 3 (ipykernel)",
   "language": "python",
   "name": "python3"
  },
  "language_info": {
   "codemirror_mode": {
    "name": "ipython",
    "version": 3
   },
   "file_extension": ".py",
   "mimetype": "text/x-python",
   "name": "python",
   "nbconvert_exporter": "python",
   "pygments_lexer": "ipython3",
   "version": "3.10.14"
  }
 },
 "nbformat": 4,
 "nbformat_minor": 5
}
